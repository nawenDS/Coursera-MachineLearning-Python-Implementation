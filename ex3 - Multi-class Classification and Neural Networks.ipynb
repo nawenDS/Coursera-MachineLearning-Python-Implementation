{
 "cells": [
  {
   "cell_type": "markdown",
   "metadata": {},
   "source": [
    "## 1. Multi-class Classification\n",
    "\n",
    "### 1.1 Load and Plot data"
   ]
  },
  {
   "cell_type": "code",
   "execution_count": 1,
   "metadata": {},
   "outputs": [],
   "source": [
    "# import library\n",
    "import numpy as np\n",
    "import matplotlib.pyplot as plt\n",
    "import scipy.optimize\n",
    "from sklearn.linear_model import LogisticRegression\n",
    "\n",
    "# Load MATLAB files\n",
    "import scipy.io\n",
    "\n",
    "%matplotlib inline"
   ]
  },
  {
   "cell_type": "code",
   "execution_count": 2,
   "metadata": {},
   "outputs": [
    {
     "name": "stdout",
     "output_type": "stream",
     "text": [
      "<class 'dict'>\n",
      "5\n",
      "{'__header__': b'MATLAB 5.0 MAT-file, Platform: GLNXA64, Created on: Sun Oct 16 13:09:09 2011', '__version__': '1.0', '__globals__': [], 'X': array([[0., 0., 0., ..., 0., 0., 0.],\n",
      "       [0., 0., 0., ..., 0., 0., 0.],\n",
      "       [0., 0., 0., ..., 0., 0., 0.],\n",
      "       ...,\n",
      "       [0., 0., 0., ..., 0., 0., 0.],\n",
      "       [0., 0., 0., ..., 0., 0., 0.],\n",
      "       [0., 0., 0., ..., 0., 0., 0.]]), 'y': array([[10],\n",
      "       [10],\n",
      "       [10],\n",
      "       ...,\n",
      "       [ 9],\n",
      "       [ 9],\n",
      "       [ 9]], dtype=uint8)}\n"
     ]
    }
   ],
   "source": [
    "data = scipy.io.loadmat('data/ex3data1.mat')\n",
    "print(type(data))\n",
    "print(len(data))\n",
    "print(data)"
   ]
  },
  {
   "cell_type": "code",
   "execution_count": 3,
   "metadata": {},
   "outputs": [
    {
     "name": "stdout",
     "output_type": "stream",
     "text": [
      "(5000, 401)\n",
      "(5000, 1)\n"
     ]
    }
   ],
   "source": [
    "X,y = data['X'],data['y'].ravel().reshape(-1,1)\n",
    "\n",
    "# Add constant for intercept\n",
    "X = np.column_stack((np.ones((data['X'].shape[0],1)), X))\n",
    "print(X.shape)\n",
    "print(y.shape)"
   ]
  },
  {
   "cell_type": "code",
   "execution_count": 4,
   "metadata": {},
   "outputs": [
    {
     "data": {
      "image/png": "[encoded data removed]",
      "text/plain": [
       "<Figure size 432x288 with 1 Axes>"
      ]
     },
     "metadata": {
      "needs_background": "light"
     },
     "output_type": "display_data"
    }
   ],
   "source": [
    "# Randomly select 10 numbers to plot\n",
    "rand_indices = np.random.choice(X.shape[0], 10)\n",
    "sel = X[rand_indices,1:]\n",
    "plt.imshow(sel.reshape(-1,20).T)\n",
    "plt.axis('off');"
   ]
  },
  {
   "cell_type": "markdown",
   "metadata": {},
   "source": [
    "### 1.2 Implementation\n",
    "\n",
    "#### 1.2.1 Regularized Logistic Regression\n",
    "\n",
    "Logistic Regression has hypothesis:<br>\n",
    "$$h_\\theta(x) = g(\\theta^Tx) $$\n",
    "\n",
    "where:<br>\n",
    "$$g(z) = \\frac{1}{1 + e^{-z}}$$"
   ]
  },
  {
   "cell_type": "code",
   "execution_count": 5,
   "metadata": {},
   "outputs": [],
   "source": [
    "def sigmoid(z):\n",
    "    return 1/(1 + np.exp(-z))"
   ]
  },
  {
   "cell_type": "markdown",
   "metadata": {},
   "source": [
    "Regularized Cost Function:\n",
    "<br><br>\n",
    "$$J(\\theta) = \\frac{1}{m} \\sum_{i=1}^m \n",
    "[-y^{(i)}log(h_\\theta (x^{(i)})) - (1 - y^{(i)})log(1-h_\\theta (x^{(i)}))]\n",
    "+ \\frac{\\lambda}{2m}  \\sum_{j=1}^n \\theta_j^2$$\n",
    "<br>\n",
    "Vectorized Cost Function:\n",
    "$$J(\\theta) = -\\frac{1}{m}[y^T\\cdot log(g(X\\theta)) + (1 - y)^T \\cdot log(1 - g(X\\theta)]\n",
    "+ \\frac{\\lambda}{2m}  \\sum_{j=1}^n \\theta_j^2$$"
   ]
  },
  {
   "cell_type": "code",
   "execution_count": 6,
   "metadata": {},
   "outputs": [],
   "source": [
    "def lrcostFunctionReg(theta, reg, X, y):\n",
    "    m = y.size\n",
    "    h = sigmoid(X.dot(theta.reshape(-1,1)))\n",
    "    J = -1 / m * (np.log(h).T.dot(y) + np.log(1 - h).T.dot(1 - y)) + reg/(2*m)*np.sum(np.square(theta[1:]))\n",
    "    #reg/(2 * m)*theta[1:].T.dot(theta[1:])  \n",
    "    #The above regularized part of cost function computate the same result, but the format is ndarray not scalar\n",
    "    return J[0][0]"
   ]
  },
  {
   "cell_type": "markdown",
   "metadata": {},
   "source": [
    "Gradient:\n",
    "<br><br>\n",
    "$$\\frac{\\delta J}{\\delta \\theta_j} = \\frac{1}{m}\\sum_{i=1}^m((h_\\theta(x^{(i)}) - y^{(i)})x_j^{(i)}) \\;\\;\\;\\;\\;  \\text{for j = 0}$$\n",
    "<br>\n",
    "$$\\frac{\\delta J}{\\delta \\theta_j} = \\frac{1}{m}\\sum_{i=1}^m((h_\\theta(x^{(i)}) - y^{(i)})x_j^{(i)}) + \\frac{\\lambda}{m}\\theta_j \\;\\;\\;\\;\\;  \\text{for j >= 1}$$"
   ]
  },
  {
   "cell_type": "code",
   "execution_count": 7,
   "metadata": {},
   "outputs": [],
   "source": [
    "def lrgradientReg(theta, reg, X, y):\n",
    "    theta = theta.reshape(-1,1)\n",
    "    m = y.size\n",
    "    h = sigmoid(X.dot(theta))\n",
    "    temp = theta\n",
    "    temp[0] = 0\n",
    "    grad = np.zeros(theta.shape)\n",
    "    grad = (1/m) * X.T.dot(h - y) + (reg / m) * temp\n",
    "    return(grad.flatten())"
   ]
  },
  {
   "cell_type": "markdown",
   "metadata": {},
   "source": [
    "Testing the costfunction and gradient"
   ]
  },
  {
   "cell_type": "code",
   "execution_count": 8,
   "metadata": {},
   "outputs": [],
   "source": [
    "# test values for the parameters theta\n",
    "theta_t = np.array([-2, -1, 1, 2], dtype=float)\n",
    "# test values for the inputs\n",
    "X_t = np.concatenate([np.ones((5, 1)), np.arange(1, 16).reshape(5, 3, order='F')/10.0], axis=1)\n",
    "# test values for the labels\n",
    "y_t = np.array([1, 0, 1, 0, 1]).reshape(-1,1)\n",
    "# test value for the regularization parameter\n",
    "lambda_t = 3"
   ]
  },
  {
   "cell_type": "code",
   "execution_count": 9,
   "metadata": {},
   "outputs": [
    {
     "name": "stdout",
     "output_type": "stream",
     "text": [
      "Cost         : 2.534819\n",
      "Expected cost: 2.534819\n",
      "-----------------------\n",
      "Gradients:\n",
      " [0.146561, -0.548558, 0.724722, 1.398003]\n",
      "Expected gradients:\n",
      " [0.146561, -0.548558, 0.724722, 1.398003]\n"
     ]
    }
   ],
   "source": [
    "J = lrcostFunctionReg(theta_t, lambda_t, X_t, y_t)\n",
    "grad = lrgradientReg(theta_t, lambda_t, X_t, y_t)\n",
    "print('Cost         : {:.6f}'.format(J))\n",
    "print('Expected cost: 2.534819')\n",
    "print('-----------------------')\n",
    "print('Gradients:')\n",
    "print(' [{:.6f}, {:.6f}, {:.6f}, {:.6f}]'.format(*grad))\n",
    "print('Expected gradients:')\n",
    "print(' [0.146561, -0.548558, 0.724722, 1.398003]')"
   ]
  },
  {
   "cell_type": "markdown",
   "metadata": {},
   "source": [
    "#### 1.2.2 One-vs-all Classification"
   ]
  },
  {
   "cell_type": "code",
   "execution_count": 10,
   "metadata": {},
   "outputs": [],
   "source": [
    "def oneVsAll(X, y, num_labels, lambda_):\n",
    "    m,n = X.shape\n",
    "    all_theta = np.zeros((num_labels, n)) # 10 * 401\n",
    "    for c in range(num_labels):\n",
    "        initial_theta = np.zeros((n,1))\n",
    "        res = scipy.optimize.minimize(lrcostFunctionReg,\n",
    "                                     initial_theta,\n",
    "                                     (lambda_, X, (y == c+1)),\n",
    "                                     jac = lrgradientReg, method = None,\n",
    "                                     options = {'maxiter':50})\n",
    "        all_theta[c] = res.x\n",
    "    return all_theta"
   ]
  },
  {
   "cell_type": "code",
   "execution_count": 11,
   "metadata": {
    "scrolled": true
   },
   "outputs": [],
   "source": [
    "# 10 labels, from 1 to 10 (note that we have mapped \"0\" to label 10)\n",
    "num_labels = 10\n",
    "lambda_ = 0.1\n",
    "theta = oneVsAll(X, y, num_labels, lambda_) # 10 * 401"
   ]
  },
  {
   "cell_type": "markdown",
   "metadata": {},
   "source": [
    "#### 1.2.3 One-vs-all Prediction"
   ]
  },
  {
   "cell_type": "code",
   "execution_count": 12,
   "metadata": {},
   "outputs": [],
   "source": [
    "def predictOneVsAll(all_theta, features):\n",
    "    probs = sigmoid(X.dot(all_theta.T))\n",
    "    # np.args Returns the indices of the maximum values along an axis\n",
    "    # python use zero-index, plus 1\n",
    "    p = np.argmax(probs, axis = 1)+1\n",
    "    return p"
   ]
  },
  {
   "cell_type": "code",
   "execution_count": 13,
   "metadata": {},
   "outputs": [
    {
     "name": "stdout",
     "output_type": "stream",
     "text": [
      "Training set accuracy: 93.24%\n"
     ]
    }
   ],
   "source": [
    "pred = predictOneVsAll(theta, X)\n",
    "accuracy = np.sum(pred == y.ravel())/y.size\n",
    "print('Training set accuracy: {}%'.format(accuracy*100))"
   ]
  },
  {
   "cell_type": "markdown",
   "metadata": {},
   "source": [
    "### 1.3 Multi-class Logistic Regression with scikit-learn"
   ]
  },
  {
   "cell_type": "code",
   "execution_count": 14,
   "metadata": {},
   "outputs": [
    {
     "data": {
      "text/plain": [
       "LogisticRegression(C=10, class_weight=None, dual=False, fit_intercept=True,\n",
       "                   intercept_scaling=1, l1_ratio=None, max_iter=100,\n",
       "                   multi_class='ovr', n_jobs=None, penalty='l2',\n",
       "                   random_state=None, solver='liblinear', tol=0.0001, verbose=0,\n",
       "                   warm_start=False)"
      ]
     },
     "execution_count": 14,
     "metadata": {},
     "output_type": "execute_result"
    }
   ],
   "source": [
    "mclg = LogisticRegression(C = 10, penalty = 'l2', solver = 'liblinear', multi_class = 'ovr')\n",
    "# Scikit-learn fits intercept automatically, so we exclude first column with 'ones' from X when fitting.\n",
    "mclg.fit(X[:,1:],y.ravel())"
   ]
  },
  {
   "cell_type": "code",
   "execution_count": 15,
   "metadata": {},
   "outputs": [
    {
     "name": "stdout",
     "output_type": "stream",
     "text": [
      "Training set accuracy: 96.5%\n"
     ]
    }
   ],
   "source": [
    "pred2 = mclg.predict(X[:,1:])\n",
    "accuracy2 = np.sum(pred2 == y.ravel())/y.size\n",
    "print('Training set accuracy: {}%'.format(accuracy2*100))"
   ]
  },
  {
   "cell_type": "markdown",
   "metadata": {},
   "source": [
    "## 2. Neural Networks"
   ]
  },
  {
   "cell_type": "code",
   "execution_count": 16,
   "metadata": {},
   "outputs": [
    {
     "name": "stdout",
     "output_type": "stream",
     "text": [
      "dict_keys(['__header__', '__version__', '__globals__', 'Theta1', 'Theta2'])\n"
     ]
    }
   ],
   "source": [
    "weights = scipy.io.loadmat('data/ex3weights.mat')\n",
    "print(weights.keys())"
   ]
  },
  {
   "cell_type": "code",
   "execution_count": 17,
   "metadata": {},
   "outputs": [
    {
     "name": "stdout",
     "output_type": "stream",
     "text": [
      "theta1:  (25, 401)\n",
      "theta2:  (10, 26)\n"
     ]
    }
   ],
   "source": [
    "theta1, theta2 = weights['Theta1'], weights['Theta2']\n",
    "print('theta1: ', theta1.shape)\n",
    "print('theta2: ', theta2.shape)"
   ]
  },
  {
   "cell_type": "code",
   "execution_count": 18,
   "metadata": {},
   "outputs": [],
   "source": [
    "def predictnn(theta1, theta2, features):\n",
    "    z2 = sigmoid(features.dot(theta1.T))\n",
    "    a2 = np.column_stack((np.ones((features.shape[0],1)),z2))\n",
    "    \n",
    "    a3 = sigmoid(a2.dot(theta2.T))\n",
    "    return np.argmax(a3, axis = 1)+1  "
   ]
  },
  {
   "cell_type": "code",
   "execution_count": 19,
   "metadata": {},
   "outputs": [
    {
     "name": "stdout",
     "output_type": "stream",
     "text": [
      "Training set accuracy: 97.52%\n"
     ]
    }
   ],
   "source": [
    "pred3 = predictnn(theta1, theta2, X)\n",
    "accuracy3 = np.sum(pred3 == y.ravel())/y.size\n",
    "print('Training set accuracy: {}%'.format(accuracy3*100))"
   ]
  }
 ],
 "metadata": {
  "kernelspec": {
   "display_name": "Python 3",
   "language": "python",
   "name": "python3"
  },
  "language_info": {
   "codemirror_mode": {
    "name": "ipython",
    "version": 3
   },
   "file_extension": ".py",
   "mimetype": "text/x-python",
   "name": "python",
   "nbconvert_exporter": "python",
   "pygments_lexer": "ipython3",
   "version": "3.7.4"
  }
 },
 "nbformat": 4,
 "nbformat_minor": 2
}
